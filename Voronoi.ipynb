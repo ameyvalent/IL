{
  "nbformat": 4,
  "nbformat_minor": 0,
  "metadata": {
    "colab": {
      "provenance": [],
      "authorship_tag": "ABX9TyMHm+a2PCOlITd/1iUFXBx5",
      "include_colab_link": true
    },
    "kernelspec": {
      "name": "python3",
      "display_name": "Python 3"
    },
    "language_info": {
      "name": "python"
    }
  },
  "cells": [
    {
      "cell_type": "markdown",
      "metadata": {
        "id": "view-in-github",
        "colab_type": "text"
      },
      "source": [
        "<a href=\"https://colab.research.google.com/github/ameyvalent/IL/blob/master/Voronoi.ipynb\" target=\"_parent\"><img src=\"https://colab.research.google.com/assets/colab-badge.svg\" alt=\"Open In Colab\"/></a>"
      ]
    },
    {
      "cell_type": "markdown",
      "source": [
        "This program calculates the Voronoi polygons for n points randomly placed in a plane"
      ],
      "metadata": {
        "id": "4py89JJ76nRP"
      }
    },
    {
      "cell_type": "code",
      "source": [
        "#importing library files\n",
        "import numpy as np\n",
        "import pandas as pd\n",
        "import random as rd\n",
        "from matplotlib import pyplot as plt"
      ],
      "metadata": {
        "id": "d1jr9_0167to"
      },
      "execution_count": 210,
      "outputs": []
    },
    {
      "cell_type": "code",
      "source": [
        "#storing x, y co-ordinates in lists\n",
        "x=[]\n",
        "y=[]\n",
        "\n",
        "#set number of points n to be randomly placed\n",
        "n=5\n",
        "\n",
        "#randomly assign x and y coordinates for all n points\n",
        "for k in range(0,n):\n",
        "  x.append(rd.randint(0,10))\n",
        "  y.append(rd.randint(0,10))\n",
        "\n",
        "#converting list to arrays\n",
        "x=np.array(x)\n",
        "y=np.array(y)\n",
        "\n",
        "print(x,y)"
      ],
      "metadata": {
        "colab": {
          "base_uri": "https://localhost:8080/"
        },
        "id": "ZmZNjhIV7Lgb",
        "outputId": "46e8841b-c4da-4355-a5db-ffa13e67cc59"
      },
      "execution_count": 243,
      "outputs": [
        {
          "output_type": "stream",
          "name": "stdout",
          "text": [
            "[3 3 6 4 9] [ 0  1  3  3 10]\n"
          ]
        }
      ]
    },
    {
      "cell_type": "markdown",
      "source": [
        "Voronoi region for a given vertice A is the set of all points which are closer to A than any other point. Voronoi edge is hus locus of point which is equidistant from 2 vertices. "
      ],
      "metadata": {
        "id": "FOe6ojo-86sc"
      }
    },
    {
      "cell_type": "code",
      "source": [
        "#Generating Voronoi edges for n points\n",
        "x_edge=[]\n",
        "y_edge=[]\n",
        "dist=np.zeros(n)\n",
        "\n",
        "#resolution enter fraction example (0.1)\n",
        "res=0.05\n",
        "\n",
        "tiles=[[[],[]] for k in range(0,n)] #crucial to use for loop here, otherwise single list with n references will be created\n",
        "\n",
        "for i in range(0,int(10/res)):\n",
        "  for j in range(0,int(10/res)):\n",
        "    for p in range(0,n):\n",
        "      dist[p]=(((i*res-x[p])**2+(j*res-y[p])**2)**0.5)\n",
        "    #  print(i, j,p,dist[p])\n",
        "    #print(dist)\n",
        "    group=np.argmin(dist)\n",
        "    #print(group)\n",
        "    tiles[group][0].append(i*res)\n",
        "    tiles[group][1].append(j*res)\n",
        "    #print(tiles)\n",
        "#print(dist)\n",
        "#tiles=np.array(tiles)"
      ],
      "metadata": {
        "id": "Wl9MNI5R8d8e"
      },
      "execution_count": 244,
      "outputs": []
    },
    {
      "cell_type": "code",
      "source": [
        "from matplotlib.pyplot import figure\n",
        "figure(figsize=(8, 8), dpi=50)\n",
        "\n",
        "#visualize Voronoi polygon\n",
        "#generate random (terrible) colors\n",
        "colors=[\"#\"+''.join([rd.choice('0123456789ABCDEF') for j in range(6)]) for i in range(n)]\n",
        "#print(colors)\n",
        "for p in range(0,n):\n",
        "  plt.scatter(tiles[p][0],tiles[p][1],c=colors[p])\n",
        "  plt.scatter(x[p],y[p])"
      ],
      "metadata": {
        "colab": {
          "base_uri": "https://localhost:8080/",
          "height": 339
        },
        "id": "0hi5gBxCBHlD",
        "outputId": "be0c47db-faab-44dd-f8f5-d03348eee96a"
      },
      "execution_count": 248,
      "outputs": [
        {
          "output_type": "display_data",
          "data": {
            "text/plain": [
              "<Figure size 400x400 with 1 Axes>"
            ],
            "image/png": "[encoded data removed]"
          },
          "metadata": {
            "needs_background": "light"
          }
        }
      ]
    },
    {
      "cell_type": "code",
      "source": [],
      "metadata": {
        "id": "sk-6PEucWEsq"
      },
      "execution_count": 225,
      "outputs": []
    },
    {
      "cell_type": "code",
      "source": [],
      "metadata": {
        "id": "a9Age371fVaO"
      },
      "execution_count": null,
      "outputs": []
    }
  ]
}